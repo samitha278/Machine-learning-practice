{
 "cells": [
  {
   "cell_type": "markdown",
   "id": "105ab382",
   "metadata": {},
   "source": [
    "# Neural network from scratch"
   ]
  },
  {
   "cell_type": "markdown",
   "id": "d2c17dc5",
   "metadata": {},
   "source": [
    "### Packages"
   ]
  },
  {
   "cell_type": "code",
   "execution_count": 2,
   "id": "608cf2d0",
   "metadata": {},
   "outputs": [],
   "source": [
    "import numpy as np\n",
    "import pandas as pd"
   ]
  },
  {
   "cell_type": "markdown",
   "id": "2245495a",
   "metadata": {},
   "source": [
    "### Data"
   ]
  },
  {
   "cell_type": "code",
   "execution_count": 3,
   "id": "cedc51f2",
   "metadata": {},
   "outputs": [
    {
     "data": {
      "text/html": [
       "<div>\n",
       "<style scoped>\n",
       "    .dataframe tbody tr th:only-of-type {\n",
       "        vertical-align: middle;\n",
       "    }\n",
       "\n",
       "    .dataframe tbody tr th {\n",
       "        vertical-align: top;\n",
       "    }\n",
       "\n",
       "    .dataframe thead th {\n",
       "        text-align: right;\n",
       "    }\n",
       "</style>\n",
       "<table border=\"1\" class=\"dataframe\">\n",
       "  <thead>\n",
       "    <tr style=\"text-align: right;\">\n",
       "      <th></th>\n",
       "      <th>User ID</th>\n",
       "      <th>Gender</th>\n",
       "      <th>Age</th>\n",
       "      <th>EstimatedSalary</th>\n",
       "      <th>Purchased</th>\n",
       "    </tr>\n",
       "  </thead>\n",
       "  <tbody>\n",
       "    <tr>\n",
       "      <th>0</th>\n",
       "      <td>15624510</td>\n",
       "      <td>Male</td>\n",
       "      <td>19</td>\n",
       "      <td>19000</td>\n",
       "      <td>0</td>\n",
       "    </tr>\n",
       "    <tr>\n",
       "      <th>1</th>\n",
       "      <td>15810944</td>\n",
       "      <td>Male</td>\n",
       "      <td>35</td>\n",
       "      <td>20000</td>\n",
       "      <td>0</td>\n",
       "    </tr>\n",
       "    <tr>\n",
       "      <th>2</th>\n",
       "      <td>15668575</td>\n",
       "      <td>Female</td>\n",
       "      <td>26</td>\n",
       "      <td>43000</td>\n",
       "      <td>0</td>\n",
       "    </tr>\n",
       "    <tr>\n",
       "      <th>3</th>\n",
       "      <td>15603246</td>\n",
       "      <td>Female</td>\n",
       "      <td>27</td>\n",
       "      <td>57000</td>\n",
       "      <td>0</td>\n",
       "    </tr>\n",
       "    <tr>\n",
       "      <th>4</th>\n",
       "      <td>15804002</td>\n",
       "      <td>Male</td>\n",
       "      <td>19</td>\n",
       "      <td>76000</td>\n",
       "      <td>0</td>\n",
       "    </tr>\n",
       "  </tbody>\n",
       "</table>\n",
       "</div>"
      ],
      "text/plain": [
       "    User ID  Gender  Age  EstimatedSalary  Purchased\n",
       "0  15624510    Male   19            19000          0\n",
       "1  15810944    Male   35            20000          0\n",
       "2  15668575  Female   26            43000          0\n",
       "3  15603246  Female   27            57000          0\n",
       "4  15804002    Male   19            76000          0"
      ]
     },
     "execution_count": 3,
     "metadata": {},
     "output_type": "execute_result"
    }
   ],
   "source": [
    "df = pd.read_csv(\"SNADs.csv\")\n",
    "df.head()"
   ]
  },
  {
   "cell_type": "code",
   "execution_count": 4,
   "id": "1db9c5b1",
   "metadata": {},
   "outputs": [],
   "source": [
    "x_features = [\"Age\",\"EstimatedSalary\"]\n",
    "x_train = df[x_features].values\n",
    "\n",
    "y_train = df[\"Purchased\"].values"
   ]
  },
  {
   "cell_type": "markdown",
   "id": "54a09f40",
   "metadata": {},
   "source": [
    "### Sigmoid Function"
   ]
  },
  {
   "cell_type": "code",
   "execution_count": 5,
   "id": "5368ce28",
   "metadata": {},
   "outputs": [],
   "source": [
    "def g(z):\n",
    "    return 1/(1+np.exp(-z))"
   ]
  },
  {
   "cell_type": "markdown",
   "id": "9de0ad43",
   "metadata": {},
   "source": [
    "### Neural Network without vectorization\n",
    "\n",
    "activation sigmoid function"
   ]
  },
  {
   "cell_type": "code",
   "execution_count": 6,
   "id": "926dde04",
   "metadata": {},
   "outputs": [],
   "source": [
    "def dense_wv(a_in,W,b):\n",
    "    \n",
    "    units = W.shape[1]\n",
    "    \n",
    "    a_out = np.zeros(units)\n",
    "    \n",
    "    for i in range(units):\n",
    "        \n",
    "        a_out[i] = g(np.dot(W[:,i],a_in)+b[i])\n",
    "        \n",
    "    return a_out"
   ]
  },
  {
   "cell_type": "markdown",
   "id": "0deca7f8",
   "metadata": {},
   "source": [
    "### Neural Network with vectorization\n",
    "\n",
    "activation sigmoid function"
   ]
  },
  {
   "cell_type": "code",
   "execution_count": 7,
   "id": "9a081c04",
   "metadata": {},
   "outputs": [],
   "source": [
    "def dense(a_in,W,b):\n",
    "    \n",
    "    a_out = g(np.matmul(a_in,W)+b)\n",
    "    \n",
    "    return a_out"
   ]
  },
  {
   "cell_type": "code",
   "execution_count": 8,
   "id": "fad2ae83",
   "metadata": {},
   "outputs": [],
   "source": [
    "W1 = np.array([[1,2,3],\n",
    "             [2,3,4]])\n",
    "b1 = np.array([1,2,3])\n",
    "\n",
    "W2 = np.array([[1],[2],[3]])\n",
    "b2 = np.array([1])"
   ]
  },
  {
   "cell_type": "markdown",
   "id": "687ebb5e",
   "metadata": {},
   "source": [
    "### without vectorization"
   ]
  },
  {
   "cell_type": "code",
   "execution_count": 9,
   "id": "97d1c668",
   "metadata": {},
   "outputs": [
    {
     "data": {
      "text/plain": [
       "array([1., 1., 1.])"
      ]
     },
     "execution_count": 9,
     "metadata": {},
     "output_type": "execute_result"
    }
   ],
   "source": [
    "a_1 = dense_wv(x_train[0],W1,b1)\n",
    "a_1"
   ]
  },
  {
   "cell_type": "code",
   "execution_count": 10,
   "id": "5cab441f",
   "metadata": {},
   "outputs": [
    {
     "data": {
      "text/plain": [
       "array([0.99908895])"
      ]
     },
     "execution_count": 10,
     "metadata": {},
     "output_type": "execute_result"
    }
   ],
   "source": [
    "a_2 = dense_wv(a_1,W2,b2)\n",
    "a_2"
   ]
  },
  {
   "cell_type": "markdown",
   "id": "db65b55a",
   "metadata": {},
   "source": [
    "### with vectorization"
   ]
  },
  {
   "cell_type": "code",
   "execution_count": 11,
   "id": "6d4b1b28",
   "metadata": {},
   "outputs": [
    {
     "data": {
      "text/plain": [
       "array([1., 1., 1.])"
      ]
     },
     "execution_count": 11,
     "metadata": {},
     "output_type": "execute_result"
    }
   ],
   "source": [
    "a_1 = dense_wv(x_train[0],W1,b1)\n",
    "a_1"
   ]
  },
  {
   "cell_type": "code",
   "execution_count": 12,
   "id": "14e367c4",
   "metadata": {},
   "outputs": [
    {
     "data": {
      "text/plain": [
       "array([0.99908895])"
      ]
     },
     "execution_count": 12,
     "metadata": {},
     "output_type": "execute_result"
    }
   ],
   "source": [
    "a_2 = dense_wv(a_1,W2,b2)\n",
    "a_2"
   ]
  },
  {
   "cell_type": "code",
   "execution_count": null,
   "id": "5bbf2a07",
   "metadata": {},
   "outputs": [],
   "source": []
  }
 ],
 "metadata": {
  "kernelspec": {
   "display_name": "Python 3 (ipykernel)",
   "language": "python",
   "name": "python3"
  },
  "language_info": {
   "codemirror_mode": {
    "name": "ipython",
    "version": 3
   },
   "file_extension": ".py",
   "mimetype": "text/x-python",
   "name": "python",
   "nbconvert_exporter": "python",
   "pygments_lexer": "ipython3",
   "version": "3.11.5"
  }
 },
 "nbformat": 4,
 "nbformat_minor": 5
}
